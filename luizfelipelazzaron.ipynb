{
 "cells": [
  {
   "cell_type": "markdown",
   "metadata": {},
   "source": [
    "# Insper - Ciência dos Dados#\n",
    "\n",
    "## Projeto 1: O impacto na economia de uma nação ao entrar na OCDE##\n",
    "-------------------------------------------------------------------------------------------------------------------------------\n",
    "-------------------------------------------------------------------------------------------------------------------------------\n",
    "\n",
    "**Aluno: Luiz Felipe Lazzaron**\n",
    "\n",
    "-------------------------------------------------------------------------------------------------------------------------------\n",
    "-------------------------------------------------------------------------------------------------------------------------------\n",
    "\n",
    "## Sumário ##\n",
    "\n",
    "**Introdução** : a história e o propósito da OCDE.\n",
    "\n",
    "**Metodologia** : hipósteses e questionamento.\n",
    "\n",
    "**Resultados**: explicando os resultados e análise.\n",
    "\n",
    "**Conclusão** : observações e suluções de melhorias.\n",
    "\n",
    "**Referências** : artigos e links relevantes para o projeto."
   ]
  },
  {
   "cell_type": "markdown",
   "metadata": {},
   "source": [
    "## Introdução ##\n",
    "\n",
    "O presente estudo tem por propósito desenvolver modelos para a previsão do tempo de resfriamento de uma certa quantidade de água quente dentro de corpos fechados, tendo eles em comum todas as propriedades, exceto o formato. Diante disso, construiu-se a seguinte pergunta:\n",
    "\n",
    "\n",
    "\n"
   ]
  },
  {
   "cell_type": "code",
   "execution_count": null,
   "metadata": {},
   "outputs": [],
   "source": []
  }
 ],
 "metadata": {
  "kernelspec": {
   "display_name": "Python 3",
   "language": "python",
   "name": "python3"
  },
  "language_info": {
   "codemirror_mode": {
    "name": "ipython",
    "version": 3
   },
   "file_extension": ".py",
   "mimetype": "text/x-python",
   "name": "python",
   "nbconvert_exporter": "python",
   "pygments_lexer": "ipython3",
   "version": "3.7.1"
  }
 },
 "nbformat": 4,
 "nbformat_minor": 2
}
