{
 "cells": [
  {
   "cell_type": "markdown",
   "metadata": {},
   "source": [
    "# Insper - Ciência dos Dados#\n",
    "\n",
    "## Projeto 1: O impacto no desemprego de uma nação ao entrar na OCDE##\n",
    "-------------------------------------------------------------------------------------------------------------------------------\n",
    "-------------------------------------------------------------------------------------------------------------------------------\n",
    "\n",
    "**Aluno: Luiz Felipe Lazzaron**\n",
    "\n",
    "-------------------------------------------------------------------------------------------------------------------------------\n",
    "-------------------------------------------------------------------------------------------------------------------------------\n",
    "\n",
    "## Sumário ##\n",
    "\n",
    "**Introdução** : a história e o propósito da OCDE.\n",
    "\n",
    "**Metodologia** : hipósteses e questionamento.\n",
    "\n",
    "**Código**: programação para os resultados.\n",
    "\n",
    "**Resultados**: explicando os resultados e análise.\n",
    "\n",
    "**Conclusão** : observações e suluções de melhorias.\n",
    "\n",
    "**Referências** : artigos e links relevantes para o projeto."
   ]
  },
  {
   "cell_type": "markdown",
   "metadata": {},
   "source": [
    "## Introdução ##\n",
    "\n",
    "O presente projeto têm por objetivo analisar a influência da empregabilidade de um país ao entrar na OCDE (Organização para a Cooperação e Desenvolvimento Econômico). Criada em 1947, a OCDE foi fundada inicialmente com a função de gestoriar os recursos levantados para a reconstrução da Eupora no período pós-Guerra, produzido pelo Plano Marshal [1]. Posteriormente, o órgão foi se direcionando para o auxiliar das relações econômicas dos países, tendo ,como um de seus propósitos, aumentar o número de empregos das nações  [1]. Desse modo, o estudo vigente visa analisar a efiência da organização supracitada no que diz respeito a formação de empregos. Para isso, analisa-se o crescimento de empregos nos países que passaram a ser membros da OCDE comparando com outros países que não pertecem ao órgão. Ademais, visa-se observar o grau de correlação envolvendo o pertencimento ao órgão com o crescimento da automatização da nação, analisando, por fim, a correlação existente entre empregabilidade e automatização.\n",
    "\n",
    "\n"
   ]
  },
  {
   "cell_type": "markdown",
   "metadata": {},
   "source": [
    "## Metodologia ##\n",
    "\n",
    "Conhecida como organização composta pelos países mais ricos do mundo, a OCDE tem como objetivo estimular a economia e a geração de empregos, sendo um órgão que se preucupa em fazer com que as nações consigam lidar com as mudanças tecnológicas que impactam a vida dos trabalhadores. Uma destas alterações é a automatização. Conforme o próprio órgão,  \"a automatização pode conduzir ao\n",
    "aumento temporário, mas eventualmente prolongado,do desemprego\"[2]. Nesse sentido, o trabalho vigente visa analisar a relação existente entre o desemprego e a automatização dos países que estão na OCDE, e se partipar da OCDE faz com que a automatização e o número de empregos aumente ou não. Formalizando, tem-se as seguintes hipóteses:\n",
    "\n",
    "    - (1) Participar da OCDE deve produzir um decréscimo no desemprego;\n",
    "    - (2) Deve haver uma relação entre automatização e o aumento do desemprego *em curto prazo*;\n",
    " \n",
    " \n",
    "Com base nisso, levantou-se as seguintes perguntas: \n",
    "- **(1) Participar da OCDE aumenta ou diminui a taxa de desemprego?**\n",
    "- **(2) qual é correlação existente entre o investimento em educação secundária com a queda do número de empregos?**\n",
    "\n"
   ]
  },
  {
   "cell_type": "markdown",
   "metadata": {},
   "source": [
    "## Código\n",
    "\n",
    "Para realizar as análises supracitadas, considerou-se analisar o valor percentual da industrialização dos países, bem com o índice de desemprego, ao longo do tempo. Assim, obteve-se, mediante o site GapMinder [3], "
   ]
  },
  {
   "cell_type": "code",
   "execution_count": 23,
   "metadata": {},
   "outputs": [],
   "source": [
    "# Importação\n",
    "%matplotlib inline\n",
    "import pandas as pd\n",
    "import numpy as np\n",
    "import math as math\n",
    "from scipy import stats\n",
    "import matplotlib.pyplot as plt"
   ]
  },
  {
   "cell_type": "code",
   "execution_count": 24,
   "metadata": {},
   "outputs": [],
   "source": [
    "#Carregando as tabelas\n",
    "##Índice de Desemprego em função do tempo\n",
    "desemprego = pd.read_excel(\"taxa_de_desemprego.xlsx\")\n",
    "industry_percent_gdp = pd.read_excel(\"industry_percent_of_gdp.xlsx\")"
   ]
  },
  {
   "cell_type": "code",
   "execution_count": 25,
   "metadata": {},
   "outputs": [],
   "source": [
    "#Dicionário de Países que pertecem a OCDE com o ano que entraram na organização\n",
    "membros = {'Australia':1971,\n",
    " 'Czech Republic':1995,\n",
    " 'Slovak Republic':1996,\n",
    " 'Austria':1961,\n",
    " 'Belgium':1961,\n",
    " 'Canada':1961,\n",
    " 'Chile':2010,\n",
    " 'South Korea':1996,\n",
    " 'Denmark':1961,\n",
    " 'Slovenia':2010,\n",
    " 'Spain':1961,\n",
    " 'United States':1961,\n",
    " 'Estonia':2010,\n",
    " 'Lithuania':2018,\n",
    " 'Finland':1969,\n",
    " 'France':1961,\n",
    " 'Greece':1961,\n",
    " 'Hungary':1996,\n",
    " 'Ireland':1961,\n",
    " 'Iceland':1961,\n",
    " 'Israel':2010,\n",
    " 'Italy':1961,\n",
    " 'Japan':1964,\n",
    " 'Latvia':2016,\n",
    " 'Luxembourg':1961,\n",
    " 'Mexico':1994,\n",
    " 'Norway':1961,\n",
    " 'New Zealand':1973,\n",
    " 'Netherlands':1961,\n",
    " 'Peru':1961,\n",
    " 'Poland':1996,\n",
    " 'Portugal':1961,\n",
    " 'United Kingdom':1961}"
   ]
  },
  {
   "cell_type": "code",
   "execution_count": null,
   "metadata": {},
   "outputs": [],
   "source": []
  },
  {
   "cell_type": "code",
   "execution_count": null,
   "metadata": {},
   "outputs": [],
   "source": []
  },
  {
   "cell_type": "markdown",
   "metadata": {},
   "source": [
    "## Referências \n",
    "\n",
    "Abaixo, tem-se os artigos e publicações utilizados no trabalho a critério de consulta.\n",
    "\n",
    "[1] Artigo do Wikipédia sobre a Organização. Acesso em https://pt.wikipedia.org/wiki/Organização_para_a_Cooperação_e_Desenvolvimento_Económico\n",
    "\n",
    "[2] Relatório da OCDE 2018: \"Criação de emprego e desenvolvimento económico local 2018: Preparando para o Futuro do trabalho\". Acesso em http://www.oecd.org/cfe/leed/PORT_LEED-Flagship-Policy-Highlights.pdf\n",
    "\n",
    "[3] Fonte de Dados. Acesso em https://www.gapminder.org/tools/"
   ]
  },
  {
   "cell_type": "code",
   "execution_count": null,
   "metadata": {},
   "outputs": [],
   "source": []
  }
 ],
 "metadata": {
  "kernelspec": {
   "display_name": "Python 3",
   "language": "python",
   "name": "python3"
  },
  "language_info": {
   "codemirror_mode": {
    "name": "ipython",
    "version": 3
   },
   "file_extension": ".py",
   "mimetype": "text/x-python",
   "name": "python",
   "nbconvert_exporter": "python",
   "pygments_lexer": "ipython3",
   "version": "3.7.1"
  }
 },
 "nbformat": 4,
 "nbformat_minor": 2
}
