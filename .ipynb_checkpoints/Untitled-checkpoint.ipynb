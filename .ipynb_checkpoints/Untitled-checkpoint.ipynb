{
 "cells": [
  {
   "cell_type": "markdown",
   "metadata": {},
   "source": [
    "# Funções para Análise"
   ]
  },
  {
   "cell_type": "code",
   "execution_count": null,
   "metadata": {},
   "outputs": [],
   "source": [
    "def grafico_241():\n",
    "    plt.figure(figsize=(15,10))\n",
    "    #Todos os Países\n",
    "    all_country = paises_desemprego.drop(\"entrance\",axis=1)\n",
    "    all_country = all_country.drop(\"Pertence a OCDE\",axis=1)\n",
    "    y = all_country.mean()\n",
    "    x = y.index\n",
    "\n",
    "    plt.plot(x,y, label = \"Média Mundial\",color='black')\n",
    "    plt.legend()\n",
    "\n",
    "    #Países Que pertecem a Organização\n",
    "    data_members = paises_desemprego[paises_desemprego[\"Pertence a OCDE\"] == \"sim\"]\n",
    "    data_members = data_members.drop(\"entrance\",axis=1)\n",
    "    data_members = data_members.drop(\"Pertence a OCDE\",axis=1)\n",
    "    y = data_members.mean()\n",
    "    x = y.index\n",
    "\n",
    "    plt.scatter(x,y,label=\"Membros da OCDE\",color='b')\n",
    "    plt.legend()\n",
    "\n",
    "    #Países que não pertencem a organização\n",
    "    data = paises_desemprego[paises_desemprego[\"Pertence a OCDE\"] == \"não\"]\n",
    "    data = data.drop(\"entrance\",axis=1)\n",
    "    data = data.drop(\"Pertence a OCDE\",axis=1)\n",
    "    y = data.mean()\n",
    "    x = y.index\n",
    "\n",
    "    plt.scatter(x,y,label=\"Países que não pertencem a OCDE\",color = 'r')\n",
    "    plt.legend()\n",
    "    plt.ylabel(\"Taxa de Desemprego\")\n",
    "    plt.xlabel(\"Anos\")\n",
    "    plt.title(\"Gráfico da Média da Taxa de Desemprego de Países que pertencem a OCDE (em azul) versus Países que Não pertencem a OCDE (vermelho)\")"
   ]
  }
 ],
 "metadata": {
  "kernelspec": {
   "display_name": "Python 3",
   "language": "python",
   "name": "python3"
  },
  "language_info": {
   "codemirror_mode": {
    "name": "ipython",
    "version": 3
   },
   "file_extension": ".py",
   "mimetype": "text/x-python",
   "name": "python",
   "nbconvert_exporter": "python",
   "pygments_lexer": "ipython3",
   "version": "3.7.1"
  }
 },
 "nbformat": 4,
 "nbformat_minor": 2
}
