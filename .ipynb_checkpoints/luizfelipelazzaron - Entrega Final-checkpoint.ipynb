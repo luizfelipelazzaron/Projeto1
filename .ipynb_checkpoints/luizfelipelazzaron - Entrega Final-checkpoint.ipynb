{
 "cells": [
  {
   "cell_type": "markdown",
   "metadata": {},
   "source": [
    "# Insper - Ciência dos Dados#\n",
    "\n",
    "## Projeto 1: O impacto no desemprego de uma nação ao entrar na OCDE##\n",
    "-------------------------------------------------------------------------------------------------------------------------------\n",
    "-------------------------------------------------------------------------------------------------------------------------------\n",
    "\n",
    "**Aluno: Luiz Felipe Lazzaron**\n",
    "\n",
    "-------------------------------------------------------------------------------------------------------------------------------\n",
    "-------------------------------------------------------------------------------------------------------------------------------\n",
    "\n",
    "## Sumário ##\n",
    "\n",
    "**1. Introdução** : a história e o propósito da OCDE.\n",
    "\n",
    "**2. Metodologia** : hipósteses e questionamento.\n",
    "\n",
    "**3. Resultados e Discussão**: explicando os resultados e análise.\n",
    "\n",
    "**4. Conclusão** : observações e propostas de melhorias.\n",
    "\n",
    "**5. Referências** : artigos e links relevantes para o projeto."
   ]
  },
  {
   "cell_type": "markdown",
   "metadata": {},
   "source": [
    "### 1. Introdução ###\n",
    "\n",
    "O presente projeto têm por objetivo analisar a influência da empregabilidade de um país ao entrar na OCDE (Organização para a Cooperação e Desenvolvimento Econômico). Criada em 1947, a  Organização para a Cooperação Econômica Europeia (OCEE) foi fundada inicialmente com a função de gestoriar os recursos levantados para a reconstrução da Eupora no período pós-Guerra, produzido pelo Plano Marshal [1]. Posteriormente, o órgão foi se direcionando para o auxiliar das relações econômicas dos países, tendo ,como um de seus propósitos, aumentar o número de empregos das nações, alterando o seu nome para OCDE em 1961 [1]. Nos últimos anos, contudo, a própria OCDE tem apontado para uma discussão contemporânea: a influência da automatização sobre o trabalho [2]. Segundo a organização, a automatização pode influenciar no desemprego. \n",
    "Desse modo, o estudo vigente visa analisar a efiência da organização supracitada no que diz respeito a formação de empregos. Para isso, analisa-se o crescimento de empregos nos países que passaram a ser membros da OCDE comparando com outros países que não pertecem ao órgão. Ademais, visa-se observar o grau de correlação envolvendo o pertencimento ao órgão com o crescimento da automatização da nação, analisando, por fim, a correlação existente entre empregabilidade e automatização tanto nos países pertencentes a OCDE quanto aqueles que não são membros.\n",
    "\n",
    "\n"
   ]
  },
  {
   "cell_type": "markdown",
   "metadata": {},
   "source": [
    "### 2. Metodologia ###"
   ]
  },
  {
   "cell_type": "markdown",
   "metadata": {},
   "source": [
    "#### 2.2 Hipóteses####\n",
    "\n",
    "Conhecida como organização composta pelos países mais ricos do mundo, a OCDE tem como objetivo estimular a economia e a geração de empregos, sendo um órgão que se preucupa em fazer com que as nações consigam lidar com as mudanças tecnológicas que impactam a vida dos trabalhadores. Uma destas alterações é a automatização. Conforme o próprio órgão,  \"a automatização pode conduzir ao\n",
    "aumento temporário, mas eventualmente prolongado,do desemprego\"[2]. Nesse sentido, o trabalho vigente visa analisar a relação existente entre o desemprego e a automatização dos países que estão na OCDE, e se partipar da OCDE faz com que a automatização e o número de empregos aumente ou não. Formalizando, tem-se as seguintes hipóteses:\n",
    "\n",
    "    - (1) Participar da OCDE deve produzir um decréscimo no desemprego;\n",
    "    - (2) Deve haver uma relação entre automatização e o aumento do desemprego;\n",
    " \n",
    " \n",
    "Com base nisso, levantou-se as seguintes perguntas: \n",
    "- **(1) Participar da OCDE aumenta ou diminui o desemprego?**\n",
    "- **(2) qual é correlação existente entre a automatização com a queda do número de empregos?**\n",
    "\n"
   ]
  },
  {
   "cell_type": "markdown",
   "metadata": {},
   "source": [
    "#### 2.2 Dados e Funções para Análise ####\n",
    "\n",
    "Inicialmente, importou-se as bibliotecas pertinentes para análise de dados:"
   ]
  },
  {
   "cell_type": "code",
   "execution_count": 3,
   "metadata": {},
   "outputs": [],
   "source": [
    "%matplotlib inline\n",
    "import pandas as pd\n",
    "import numpy as np\n",
    "import math as math\n",
    "import funcoes as f\n",
    "from scipy import stats\n",
    "import matplotlib.pyplot as plt"
   ]
  },
  {
   "cell_type": "markdown",
   "metadata": {},
   "source": [
    "##### 2.2.1. Dataframe de Taxa de Desemprego ######\n",
    "Para realizar as análises supracitadas, usou-se os dados do site GapMinder [3], o qual concentra uma miríade de informações referentes as nações. Para analisar o desemprego, considerou-se utilizar *taxa de desemprego*, que representa a quantidade percentual da população ativa que se encontra desempregada. Abaixo, tem-se a importação da tabela do Excel contendo a taxa de desemprego de todos os países, intitulada por **desemprego**"
   ]
  },
  {
   "cell_type": "code",
   "execution_count": 4,
   "metadata": {},
   "outputs": [],
   "source": [
    "#Tabela de Taxa de Desemprego (1947 - 2018)\n",
    "desemprego = pd.read_excel(\"taxa_de_desemprego.xlsx\")\n",
    "desemprego.set_index('country', inplace=True)"
   ]
  },
  {
   "cell_type": "markdown",
   "metadata": {},
   "source": [
    "##### 2.2.2 Dataframe Valor econômico da indústria em valores percentuais do Produto Interno Bruto (PIB) #####\n",
    "Para a análise da automatização, optou-se analisar o *valor econômico da indústria em valores percentuais do Produto Interno Bruto(PIB)*. Apesar deste parâmetro não indicar diretamente a automatização do país, espera-se que esta esteja relacionado diretamente com a industrialização do país, o que está intimamente ligado com o valor econômico deste setor. Abaixo, tem-se a importação da tabela do valor econômico da indústria em valores percentuais do PIB, criando o dataframe **valor_econo**   "
   ]
  },
  {
   "cell_type": "code",
   "execution_count": 5,
   "metadata": {},
   "outputs": [],
   "source": [
    "# Tabela do Valor Econômico da Indústria em percentagem de GDP (1960-2017)\n",
    "valor_econo= pd.read_excel(\"industry_percent_of_gdp.xlsx\")\n",
    "valor_econo = valor_econo.set_index('country')"
   ]
  },
  {
   "cell_type": "markdown",
   "metadata": {},
   "source": [
    "#### 2.3 Membros da OCDE ####\n",
    "\n",
    "Primeiramente, obteve-se quais eram os países que pertecem a OCDE, bem como o ano em que cada país entrou na organização. Abaixo, tem-se o dicionário com o nome da nação e o respectivo ano de entrada na OCDE, retirado do site Wikipédia [1]."
   ]
  },
  {
   "cell_type": "code",
   "execution_count": 6,
   "metadata": {},
   "outputs": [],
   "source": [
    "# Dicionário dos Países com o ano que passaram a participar da Organização\n",
    "dict_members = {'Australia':1971, 'Czech Republic':1995, 'Slovak Republic':1996, 'Austria':1961, 'Belgium':1961, 'Canada':1961, 'Chile':2010, 'South Korea':1996, 'Denmark':1961, 'Slovenia':2010, 'Spain':1961, 'United States':1961, 'Estonia':2010, 'Lithuania':2018, 'Finland':1969, 'France':1961, 'Greece':1961, 'Hungary':1996, 'Ireland':1961, 'Iceland':1961, 'Israel':2010, 'Italy':1961, 'Japan':1964, 'Latvia':2016, 'Luxembourg':1961, 'Mexico':1994, 'Norway':1961, 'New Zealand':1973, 'Netherlands':1961, 'Peru':1961, 'Poland':1996, 'Portugal':1961, 'Switzerland':1961, 'United Kingdom':1961}"
   ]
  },
  {
   "cell_type": "markdown",
   "metadata": {},
   "source": [
    "##### 2.3.1 Dataframe com os países membros da OCDE #####\n",
    "\n",
    "Para relacionar o dicionário anterior com os Dataframes 2.2.1 e 2.2.2, criou-se o Dataframe **members**, o qual possui o ano de entrada na coluna *entrance*, definido a seguir:"
   ]
  },
  {
   "cell_type": "code",
   "execution_count": 7,
   "metadata": {},
   "outputs": [],
   "source": [
    "#Preparando os dados para serem interpretados como Lista de Anos e lista de Países\n",
    "list_years_members =[]\n",
    "for year in dict_members.values():\n",
    "    list_years_members.append(year)\n",
    "list_country_members = []\n",
    "for country in dict_members.keys():\n",
    "    list_country_members.append(country)"
   ]
  },
  {
   "cell_type": "code",
   "execution_count": 8,
   "metadata": {},
   "outputs": [],
   "source": [
    "#DataFrame com os Membros da OCDE e o Ano de Entrada na Oganização\n",
    "members = pd.DataFrame(dict_members, index=['entrance']).transpose()\n",
    "members = pd.DataFrame(index = list_country_members, data ={\"entrance\":list_years_members})"
   ]
  },
  {
   "cell_type": "markdown",
   "metadata": {},
   "source": [
    "##### 2.3.2  Coluna Qualitativa: Pertence a OCDE #####\n",
    "\n",
    "Antes de realizar o *joint*, adicionou-se em ambos os dataframes **desemprego** e **valor_econo** a coluna *Pertence a OCDE*, mediante o dicionário **dict_members**:"
   ]
  },
  {
   "cell_type": "code",
   "execution_count": 9,
   "metadata": {},
   "outputs": [],
   "source": [
    "#Lista de países da Tabela da Taxa de Desemprego\n",
    "quali_column = {}\n",
    "lista_de_paises = []\n",
    "for pais in desemprego.index:\n",
    "    lista_de_paises.append(pais)\n",
    "for country in lista_de_paises:\n",
    "    if country in list_country_members:\n",
    "        quali_column[country] = \"sim\"\n",
    "    else:\n",
    "        quali_column[country] = \"não\"\n",
    "desemprego[\"Pertence a OCDE\"] = quali_column.values()"
   ]
  },
  {
   "cell_type": "code",
   "execution_count": 10,
   "metadata": {},
   "outputs": [],
   "source": [
    "#Lista de países da Tabela do Valor Econômico\n",
    "quali_column = {}\n",
    "lista_de_paises = []\n",
    "for pais in valor_econo.index:\n",
    "    lista_de_paises.append(pais)\n",
    "for country in lista_de_paises:\n",
    "    if country in list_country_members:\n",
    "        quali_column[country] = \"sim\"\n",
    "    else:\n",
    "        quali_column[country] = \"não\"\n",
    "valor_econo[\"Pertence a OCDE\"] = quali_column.values()"
   ]
  },
  {
   "cell_type": "markdown",
   "metadata": {},
   "source": [
    "##### 2.3.3 Joint entre os Dataframes\n",
    "\n",
    "Com o dataframe **members** definido e com a coluna *Pertence a OCDE* prontos, pode-se adiconar aos dataframes anteriores por meio da ferramenta *joint* da biblioteca *pandas*, criando os novos dataframes **paises_desemprego** e **paises_industria**:"
   ]
  },
  {
   "cell_type": "code",
   "execution_count": 11,
   "metadata": {},
   "outputs": [],
   "source": [
    "#Joint com o DataFrame dos Países com as Taxas de Desemprego\n",
    "paises_desemprego = desemprego.transpose()\n",
    "paises_desemprego = desemprego.join(members, how='left')"
   ]
  },
  {
   "cell_type": "code",
   "execution_count": 12,
   "metadata": {},
   "outputs": [],
   "source": [
    "#Joint com o DataFrame dos Países com o Valor Econômico\n",
    "paises_industria = valor_econo.join(members, how='left')"
   ]
  },
  {
   "cell_type": "markdown",
   "metadata": {},
   "source": [
    "##### 2.3.4 Funções para os Gráficos ######\n",
    "\n",
    "Para obter a curva de tendência dos dados, utilizou-se a função usada na aula de análise de variáveis quantitativas, chamada *reta*:"
   ]
  },
  {
   "cell_type": "code",
   "execution_count": 13,
   "metadata": {},
   "outputs": [],
   "source": [
    "def reta(dados_x, dados_y, c):    \n",
    "    a = dados_y.cov(dados_x) / dados_x.var()\n",
    "    b = dados_y.mean() - a*dados_x.mean()\n",
    "    print('Ajuste linear entre X3 e X4:')\n",
    "    print('Coeficiente linear:', b)\n",
    "    print('Coeficiente angular:', a)\n",
    "    plt.scatter(dados_x, dados_y, c=c, alpha=0.8)\n",
    "    plt.title('x versus y')\n",
    "    plt.xlabel('eixo x')\n",
    "    plt.ylabel('eixo y')\n",
    "    plt.plot((dados_x.min(), dados_x.max()), (a*dados_x.min()+b, a*dados_x.max()+b), color=c)\n",
    "    plt.tight_layout()"
   ]
  },
  {
   "cell_type": "markdown",
   "metadata": {},
   "source": [
    "Adicionalmente, para marcar com clareza o ano de entrada de um país, definiu-se a função *reta_vertical*, a qual terá a sua funcionalidade com mais clareza nos gráficos vistos a seguir."
   ]
  },
  {
   "cell_type": "code",
   "execution_count": 14,
   "metadata": {},
   "outputs": [],
   "source": [
    "def reta_vertical(numero,valor_maximo):\n",
    "    Y = range(0,valor_maximo)\n",
    "    X = [numero]*len(Y)\n",
    "    return X,Y"
   ]
  },
  {
   "cell_type": "markdown",
   "metadata": {},
   "source": [
    "## 2.4 Análise da Média da Taxa de Desemprego em função do Tempo\n",
    "\n",
    "Inicialmente, plotou-se o gráfico comparativo entre os países que pertencem a OCDE com os que não pertencem a organização, na faixa de tempo entre 1970 a 2018. Escolheu-se esse período porque os países que não pertencem a OCDE não possuem dados antes da década de 70. A seguir, tem-se o código bem o gráfico supracitado:"
   ]
  },
  {
   "cell_type": "code",
   "execution_count": 103,
   "metadata": {},
   "outputs": [
    {
     "data": {
      "image/png": "[encoded data removed]",
      "text/plain": [
       "<Figure size 1080x720 with 1 Axes>"
      ]
     },
     "metadata": {
      "needs_background": "light"
     },
     "output_type": "display_data"
    }
   ],
   "source": [
    "plt.figure(figsize=(15,10))\n",
    "#Todos os Países\n",
    "all_country = paises_desemprego.drop(\"entrance\",axis=1)\n",
    "all_country = all_country.drop(\"Pertence a OCDE\",axis=1)\n",
    "all_country = all_country.loc[:,range(1970,2018)]\n",
    "y = all_country.mean()\n",
    "x = y.index\n",
    "\n",
    "plt.plot(x,y, label = \"Média Mundial\",color='black')\n",
    "plt.legend()\n",
    "\n",
    "#Países Que pertecem a Organização\n",
    "data_members = paises_desemprego[paises_desemprego[\"Pertence a OCDE\"] == \"sim\"]\n",
    "data_members = data_members.drop(\"entrance\",axis=1)\n",
    "data_members = data_members.drop(\"Pertence a OCDE\",axis=1)\n",
    "data_members = data_members.loc[:,range(1970,2018)]\n",
    "y = data_members.mean()\n",
    "x = y.index\n",
    "\n",
    "plt.scatter(x,y,label=\"Membros da OCDE\",color='b')\n",
    "plt.legend()\n",
    "\n",
    "#Países que não pertencem a organização\n",
    "data = paises_desemprego[paises_desemprego[\"Pertence a OCDE\"] == \"não\"]\n",
    "data = data.drop(\"entrance\",axis=1)\n",
    "data = data.drop(\"Pertence a OCDE\",axis=1)\n",
    "data = data.loc[:,range(1970,2018)]\n",
    "y = data.mean()\n",
    "x = y.index\n",
    "plt.scatter(x,y,label=\"Países que não pertencem a OCDE\",color = 'r')\n",
    "plt.legend()\n",
    "plt.ylabel(\"Taxa de Desemprego\")\n",
    "plt.xlabel(\"Anos\")\n",
    "plt.title(\"Gráfico da Média da Taxa de Desemprego de Países que pertencem a OCDE (em azul) versus Países que Não pertencem a OCDE (vermelho)\");"
   ]
  },
  {
   "cell_type": "markdown",
   "metadata": {},
   "source": [
    "Conforme o gráfico anterior, pode-se ver que houve um crescimento da taxa de desemprego de modo geral, tanto em países da OCDE quanto aqueles que não pertecem a entidade. Contudo, para analisar melhor os dados, pode-se fazer um histograma e um boxplot de algumas décadas, afim de comparar o efeito da organização."
   ]
  },
  {
   "cell_type": "markdown",
   "metadata": {},
   "source": [
    "### 2.4.1. Histograma e Boxplot Comparativo\n",
    "\n",
    "- 1970\n",
    "\n",
    "Depois de quase uma década de formação da OCDE, pode-se observar que o os países membros eram, em geral, os países com as menores taxas de desemprego do mundo, tendo uma assimetria a esquerda:"
   ]
  },
  {
   "cell_type": "code",
   "execution_count": 125,
   "metadata": {
    "scrolled": true
   },
   "outputs": [
    {
     "data": {
      "image/png": "[encoded data removed]",
      "text/plain": [
       "<Figure size 432x288 with 2 Axes>"
      ]
     },
     "metadata": {
      "needs_background": "light"
     },
     "output_type": "display_data"
    }
   ],
   "source": [
    "paises_desemprego.hist(column =1970, by='Pertence a OCDE', density = True);"
   ]
  },
  {
   "cell_type": "code",
   "execution_count": 93,
   "metadata": {},
   "outputs": [
    {
     "name": "stdout",
     "output_type": "stream",
     "text": [
      "Países membros da OCDE\n"
     ]
    },
    {
     "data": {
      "text/plain": [
       "count    5.000000\n",
       "mean     4.046000\n",
       "std      1.810519\n",
       "min      1.100000\n",
       "25%      3.820000\n",
       "50%      4.510000\n",
       "75%      4.900000\n",
       "max      5.900000\n",
       "Name: 1970, dtype: float64"
      ]
     },
     "execution_count": 93,
     "metadata": {},
     "output_type": "execute_result"
    }
   ],
   "source": [
    "print(\"Países membros da OCDE\")\n",
    "paises_desemprego.loc[paises_desemprego[\"Pertence a OCDE\"] == \"sim\",1970].describe()"
   ]
  },
  {
   "cell_type": "code",
   "execution_count": 94,
   "metadata": {},
   "outputs": [
    {
     "name": "stdout",
     "output_type": "stream",
     "text": [
      "Países não membros da OCDE\n"
     ]
    },
    {
     "data": {
      "text/plain": [
       "count     7.000000\n",
       "mean      6.722857\n",
       "std       3.178206\n",
       "min       2.400000\n",
       "25%       5.430000\n",
       "50%       6.400000\n",
       "75%       7.300000\n",
       "max      12.800000\n",
       "Name: 1970, dtype: float64"
      ]
     },
     "execution_count": 94,
     "metadata": {},
     "output_type": "execute_result"
    }
   ],
   "source": [
    "print(\"Países não membros da OCDE\")\n",
    "paises_desemprego.loc[paises_desemprego[\"Pertence a OCDE\"] == \"não\",1970].describe()"
   ]
  },
  {
   "cell_type": "markdown",
   "metadata": {},
   "source": [
    "Como é possível observar acima, os países que pertecem a OCDE tem uma maior fequência em taxas próximas a 4%, tendo um hisograma de assimetria a direit. Em contra-partida, os países que não pertencem a OCDE têm uma assimetria a esquerda, perto de 6,7%. A seguir, pode-se ver o *box-plot* comparativo:"
   ]
  },
  {
   "cell_type": "code",
   "execution_count": 64,
   "metadata": {},
   "outputs": [
    {
     "data": {
      "image/png": "[encoded data removed]",
      "text/plain": [
       "<Figure size 432x288 with 1 Axes>"
      ]
     },
     "metadata": {
      "needs_background": "light"
     },
     "output_type": "display_data"
    }
   ],
   "source": [
    "paises_desemprego.boxplot(column=1970, by=\"Pertence a OCDE\");\n"
   ]
  },
  {
   "cell_type": "markdown",
   "metadata": {},
   "source": [
    "Como pode-se prever já no histograma anterior, os países que não são membros da OCDE possuem valores aberrantes, já que tinham uma assimetria, enquanto há apenas um outlier nos países pertentes a OCDE."
   ]
  },
  {
   "cell_type": "markdown",
   "metadata": {},
   "source": [
    "- 2000\n",
    "\n",
    "Abaixo, tem-se o histograma análogo ao anterior para os anos 2000. Nele, pode-se ver que os países membros da OCDE continuam tendo as percentagens menores de taxa de desemprego."
   ]
  },
  {
   "cell_type": "code",
   "execution_count": 104,
   "metadata": {},
   "outputs": [
    {
     "data": {
      "image/png": "[encoded data removed]",
      "text/plain": [
       "<Figure size 432x288 with 2 Axes>"
      ]
     },
     "metadata": {
      "needs_background": "light"
     },
     "output_type": "display_data"
    }
   ],
   "source": [
    "paises_desemprego.hist(column =2000, by='Pertence a OCDE', density = True);"
   ]
  },
  {
   "cell_type": "markdown",
   "metadata": {},
   "source": [
    "O histograma dos não membros, bem como o dos membros, possuem uma distribuição assimétrica a esquerda."
   ]
  },
  {
   "cell_type": "code",
   "execution_count": 105,
   "metadata": {},
   "outputs": [
    {
     "name": "stdout",
     "output_type": "stream",
     "text": [
      "Países membros da OCDE\n"
     ]
    },
    {
     "data": {
      "text/plain": [
       "count    34.000000\n",
       "mean      7.797941\n",
       "std       4.578552\n",
       "min       1.940000\n",
       "25%       4.340000\n",
       "50%       6.575000\n",
       "75%      11.025000\n",
       "max      19.100000\n",
       "Name: 2000, dtype: float64"
      ]
     },
     "execution_count": 105,
     "metadata": {},
     "output_type": "execute_result"
    }
   ],
   "source": [
    "print(\"Países membros da OCDE\")\n",
    "paises_desemprego.loc[paises_desemprego[\"Pertence a OCDE\"] == \"sim\",2000].describe()"
   ]
  },
  {
   "cell_type": "code",
   "execution_count": 106,
   "metadata": {},
   "outputs": [
    {
     "name": "stdout",
     "output_type": "stream",
     "text": [
      "Países não membros da OCDE\n"
     ]
    },
    {
     "data": {
      "text/plain": [
       "count    55.000000\n",
       "mean      9.543455\n",
       "std       6.514295\n",
       "min       0.800000\n",
       "25%       4.520000\n",
       "50%       7.740000\n",
       "75%      13.550000\n",
       "max      30.200000\n",
       "Name: 2000, dtype: float64"
      ]
     },
     "execution_count": 106,
     "metadata": {},
     "output_type": "execute_result"
    }
   ],
   "source": [
    "print(\"Países não membros da OCDE\")\n",
    "paises_desemprego.loc[paises_desemprego[\"Pertence a OCDE\"] == \"não\",2000].describe()"
   ]
  },
  {
   "cell_type": "markdown",
   "metadata": {},
   "source": [
    "Conforme os dados, os países membros da OCDE tiveram um crescimento da média de desemprego, mas ainda sim tiveram pouca variação da taxa entre si quando se compara com os países não pertences a OCDE. abaixo, o *boxplot* evidencia isso, mostrando a maior quantidade de outliers que os não membros da entidade possuem:"
   ]
  },
  {
   "cell_type": "code",
   "execution_count": 108,
   "metadata": {},
   "outputs": [
    {
     "data": {
      "image/png": "[encoded data removed]",
      "text/plain": [
       "<Figure size 432x288 with 1 Axes>"
      ]
     },
     "metadata": {
      "needs_background": "light"
     },
     "output_type": "display_data"
    }
   ],
   "source": [
    "paises_desemprego.boxplot(column=2000, by=\"Pertence a OCDE\");"
   ]
  },
  {
   "cell_type": "markdown",
   "metadata": {},
   "source": [
    "Acima, pode-se ver que o intervalo interquartil dos membros é menor que a dos não membros, mostrando uma maior uniformidade entre os membros da OCDE. Além disso, não há valores aberrantes registrados nos membros.\n",
    "Para terminar está análise, observa-se a seguir os dados referentes a 2010."
   ]
  },
  {
   "cell_type": "markdown",
   "metadata": {},
   "source": [
    "- 2010\n",
    "\n",
    "No ano de 2010, é possível observar uma mudança de paradigma: os países da OCDE começam a ter valores bem mais parecidos que os não membros:"
   ]
  },
  {
   "cell_type": "code",
   "execution_count": 109,
   "metadata": {},
   "outputs": [
    {
     "data": {
      "image/png": "[encoded data removed]",
      "text/plain": [
       "<Figure size 432x288 with 2 Axes>"
      ]
     },
     "metadata": {
      "needs_background": "light"
     },
     "output_type": "display_data"
    }
   ],
   "source": [
    "paises_desemprego.hist(column =2010, by='Pertence a OCDE', density = True);"
   ]
  },
  {
   "cell_type": "code",
   "execution_count": 114,
   "metadata": {},
   "outputs": [
    {
     "name": "stdout",
     "output_type": "stream",
     "text": [
      "Países membros da OCDE\n"
     ]
    },
    {
     "data": {
      "text/plain": [
       "count    34.000000\n",
       "mean      8.949412\n",
       "std       4.531095\n",
       "min       3.480000\n",
       "25%       5.232500\n",
       "50%       8.175000\n",
       "75%      10.510000\n",
       "max      19.900000\n",
       "Name: 2010, dtype: float64"
      ]
     },
     "execution_count": 114,
     "metadata": {},
     "output_type": "execute_result"
    }
   ],
   "source": [
    "print(\"Países membros da OCDE\")\n",
    "paises_desemprego.loc[paises_desemprego[\"Pertence a OCDE\"] == \"sim\",2010].describe()"
   ]
  },
  {
   "cell_type": "code",
   "execution_count": 115,
   "metadata": {},
   "outputs": [
    {
     "name": "stdout",
     "output_type": "stream",
     "text": [
      "Países não membros da OCDE\n"
     ]
    },
    {
     "data": {
      "text/plain": [
       "count    73.000000\n",
       "mean      8.317164\n",
       "std       6.811017\n",
       "min       0.622000\n",
       "25%       4.000000\n",
       "50%       6.970000\n",
       "75%       9.960000\n",
       "max      32.000000\n",
       "Name: 2010, dtype: float64"
      ]
     },
     "execution_count": 115,
     "metadata": {},
     "output_type": "execute_result"
    }
   ],
   "source": [
    "print(\"Países não membros da OCDE\")\n",
    "paises_desemprego.loc[paises_desemprego[\"Pertence a OCDE\"] == \"não\",2010].describe()"
   ]
  },
  {
   "cell_type": "markdown",
   "metadata": {},
   "source": [
    "Acima, pode-se atestar que há uma assimetria a esquerda em ambos países membros e não membros. Além disso, pode-se ver que a média dos países membros está maior que a média dos países não membros. Abaixo, tem-se o *boxplot* para 2010:"
   ]
  },
  {
   "cell_type": "code",
   "execution_count": 112,
   "metadata": {},
   "outputs": [
    {
     "data": {
      "image/png": "[encoded data removed]",
      "text/plain": [
       "<Figure size 432x288 with 1 Axes>"
      ]
     },
     "metadata": {
      "needs_background": "light"
     },
     "output_type": "display_data"
    }
   ],
   "source": [
    "paises_desemprego.boxplot(column=2010, by=\"Pertence a OCDE\");"
   ]
  },
  {
   "cell_type": "markdown",
   "metadata": {},
   "source": [
    "Na figura, é possível a grande quantidade de outliers que os não membros têm, e que a mediana dos não membros está menor, mostrando uma mudança em relação as comparações de 2000 e 1970.\n"
   ]
  },
  {
   "cell_type": "markdown",
   "metadata": {},
   "source": [
    "## 2.5 Análise da correlação entre Desemprego com Automatização\n",
    "\n",
    "Para conseguir observar a existência (ou não) das varíaveis supracitadas, usa-se os mesmos dataframes do item 2.4.\n",
    "\n",
    "### 2.5.1. Analisando os dados entre 1980 a 2017\n",
    "\n",
    "Nas tabelas do GapMinder, muitos países não possuem dados em vários anos. Com isso, para conseguir analisar a relação entre o taxa de desemprego e o valor econômico da indústria em percetual do PIB, decidiu-se que os anos para análise seria entre 1980 a 2017, deixando apenas os países que possuíssem todos os dados referentes ao período para ambas variáveis. Assim, criou-se os dataframes **paises_desemprego_plot** e **paises_industria_plot**."
   ]
  },
  {
   "cell_type": "code",
   "execution_count": 138,
   "metadata": {},
   "outputs": [],
   "source": [
    "paises_desemprego_plot = paises_desemprego.loc[:,range(1990,2018)].dropna()\n",
    "paises_industria_plot = paises_industria.loc[:,range(1990,2018)].dropna()"
   ]
  },
  {
   "cell_type": "code",
   "execution_count": 139,
   "metadata": {},
   "outputs": [],
   "source": [
    "todos_os_paises = list(desemprego.index)\n",
    "paises_tabela_industria = list(paises_industria_plot.index)\n",
    "paises_tabela_desemprego = list(paises_desemprego_plot.index)\n",
    "paises_correlacao = []\n",
    "for pais in todos_os_paises:\n",
    "    if pais in paises_tabela_industria and pais in paises_tabela_desemprego:\n",
    "        paises_correlacao.append(pais)"
   ]
  },
  {
   "cell_type": "code",
   "execution_count": 140,
   "metadata": {},
   "outputs": [],
   "source": [
    "paises_desemprego_plot_tranpose = paises_desemprego_plot.transpose()\n",
    "paises_industria_plot_tranpose = paises_industria_plot.transpose()\n",
    "\n",
    "for paises in paises_desemprego_plot_tranpose:\n",
    "    if paises not in paises_correlacao:\n",
    "        paises_desemprego_plot_tranpose = paises_desemprego_plot_tranpose.drop(paises, axis=1)\n",
    "        \n",
    "for paises in paises_industria_plot_tranpose:\n",
    "    if paises not in paises_correlacao:\n",
    "        paises_industria_plot_tranpose = paises_industria_plot_tranpose.drop(paises, axis=1)"
   ]
  },
  {
   "cell_type": "code",
   "execution_count": 144,
   "metadata": {},
   "outputs": [],
   "source": [
    "paises_industria_plot = paises_industria_plot_tranpose.transpose() \n",
    "paises_desemprego_plot  = paises_desemprego_plot_tranpose.transpose()\n",
    "\n",
    "dict_members_plot = {}\n",
    "for pais in paises_desemprego_plot.index:\n",
    "    if pais not in dict_members.keys():\n",
    "        dict_members_plot[pais] = \"não\"\n",
    "    else:\n",
    "        dict_members_plot[pais] = \"sim\"\n",
    "\n",
    "paises_industria_plot[\"Pertence a OCDE\"] = dict_members_plot.values()\n",
    "paises_desemprego_plot[\"Pertence a OCDE\"] = dict_members_plot.values()"
   ]
  },
  {
   "cell_type": "markdown",
   "metadata": {},
   "source": [
    "Com base nessa seleção, conseguiu-se relação de Países:\n",
    "\n",
    "**Membros da OCDE**:\n",
    "- Austrália;\n",
    "- Chile;\n",
    "- Dinamarca;\n",
    "- Finlândia\n",
    "- França;\n",
    "- Itália;\n",
    "- Holanda;\n",
    "- Noruega;\n",
    "- Coréia do Sul;\n",
    "- Reino Unido;\n",
    "\n",
    "**Não membros da OCDE**:\n",
    "- Siri Lanka;\n",
    "- Suécia;\n",
    "- Turquia;\n",
    "- Uruguai;\n"
   ]
  },
  {
   "cell_type": "code",
   "execution_count": 179,
   "metadata": {},
   "outputs": [
    {
     "name": "stdout",
     "output_type": "stream",
     "text": [
      "\n",
      " Membros da OCDE\n",
      "Ajuste linear entre X3 e X4:\n",
      "Coeficiente linear: 24.823062574741037\n",
      "Coeficiente angular: 0.2061035764792572\n",
      "Correlação entre Taxa de Desemprego e Valor Econômico da Indústria em percentual de GDP: 0.14675751794835548\n",
      "Covariância entre Taxa de Desemprego e Valor Econômico da Indústria em percentual de GDP: 0.2035542592592592\n",
      "\n",
      " Não Membros da OCDE\n",
      "Ajuste linear entre X3 e X4:\n",
      "Coeficiente linear: 23.247359570848722\n",
      "Coeficiente angular: 0.39039031986019374\n",
      "Correlação entre Taxa de Desemprego e Valor Econômico da Indústria em percentual de GDP: 0.3272628494630468\n",
      "Covariância entre Taxa de Desemprego e Valor Econômico da Indústria em percentual de GDP: 0.5235557208994709\n"
     ]
    },
    {
     "data": {
      "text/plain": [
       "Text(20.800000000000004, 0.5, 'Valor Econômico da Indústria')"
      ]
     },
     "execution_count": 179,
     "metadata": {},
     "output_type": "execute_result"
    },
    {
     "data": {
      "image/png": "[encoded data removed]",
      "text/plain": [
       "<Figure size 1080x720 with 1 Axes>"
      ]
     },
     "metadata": {
      "needs_background": "light"
     },
     "output_type": "display_data"
    }
   ],
   "source": [
    "#Taxa de Desemprego de Países Que pertecem a Organização\n",
    "data_members_desemprego = paises_desemprego_plot[paises_desemprego_plot[\"Pertence a OCDE\"] == \"sim\"]\n",
    "data_members_desemprego = data_members_desemprego.drop(\"Pertence a OCDE\", axis=1)\n",
    "\n",
    "#Valor Econômico da Industria de Países Que pertecem a Organização\n",
    "data_members_industria = paises_industria_plot[paises_industria_plot[\"Pertence a OCDE\"] == \"sim\"]\n",
    "data_members_industria = data_members_industria.drop(\"Pertence a OCDE\", axis=1)\n",
    "\n",
    "#Taxa de Desemprego de Países Que pertecem a Organização\n",
    "data_not_members_desemprego = paises_desemprego_plot[paises_desemprego_plot[\"Pertence a OCDE\"] == \"não\"]\n",
    "data_not_members_desemprego = data_not_members_desemprego.drop(\"Pertence a OCDE\", axis=1)\n",
    "\n",
    "#Valor Econômico da Industria de Países Que pertecem a Organização\n",
    "data_not_members_industria = paises_industria_plot[paises_industria_plot[\"Pertence a OCDE\"] == \"não\"]\n",
    "data_not_members_industria = data_not_members_industria.drop(\"Pertence a OCDE\", axis=1)\n",
    "\n",
    "plt.figure(figsize=(15,10))\n",
    "\n",
    "print(\"\\n Membros da OCDE\")\n",
    "reta(data_members_desemprego.mean(),data_members_industria.mean(),'gray')\n",
    "print(\"Correlação entre Taxa de Desemprego e Valor Econômico da Indústria em percentual de GDP:\",np.corrcoef(data_members_desemprego.mean(),data_members_industria.mean())[0,1])\n",
    "print(\"Covariância entre Taxa de Desemprego e Valor Econômico da Indústria em percentual de GDP:\",np.cov(data_members_desemprego.mean(),data_members_industria.mean())[0,1])\n",
    "\n",
    "print(\"\\n Não Membros da OCDE\")\n",
    "reta(data_not_members_desemprego.mean(),data_not_members_industria.mean(), \"black\")\n",
    "print(\"Correlação entre Taxa de Desemprego e Valor Econômico da Indústria em percentual de GDP:\",np.corrcoef(data_not_members_desemprego.mean(),data_not_members_industria.mean())[0,1])\n",
    "print(\"Covariância entre Taxa de Desemprego e Valor Econômico da Indústria em percentual de GDP:\",np.cov(data_not_members_desemprego.mean(),data_not_members_industria.mean())[0,1]);\n",
    "\n",
    "plt.xlabel(\"Taxa de Desemprego\")\n",
    "plt.title(\"Correlação entre as Variáveis Quantitativas\")\n",
    "plt.ylabel(\"Valor Econômico da Indústria\")"
   ]
  },
  {
   "cell_type": "markdown",
   "metadata": {},
   "source": [
    "Como é possível observar no gráfico e nos dados, verifica-se que a covariância entre as duas variáveis quantitativas não é muito expressiva, sendo maior nos países que não pertencem a OCDE."
   ]
  },
  {
   "cell_type": "markdown",
   "metadata": {},
   "source": [
    "# 3. Resultados e Discussões\n",
    "\n",
    "\n",
    "Diante do que foi observado nos itens 2.4 e 2.5, pode-se observar que as **as duas hipóteses não foram provadas**. Antes, temos que elas foram contrariadas, com base no método desenvolvido."
   ]
  },
  {
   "cell_type": "markdown",
   "metadata": {},
   "source": [
    "No item 2.4, pode-se ver que, por mais que na década de 70 obteve-se uma taxa de desemprego menor nos países que pertecem a organização, essa diferença foi sendo atenuada nas décadas seguintes, sendo que em 2010 os países não pertencentes ao órgão já possuíam uma média e uma mediana maior que os países membros, evidenciando que a hipótese (1) não é coerente com os dados aqui analisados."
   ]
  },
  {
   "cell_type": "markdown",
   "metadata": {},
   "source": [
    "Outrossim, no item 2.5, pode-se ver que a relação entre taxa de desemprego e automatização não deve ser muito expressiva, já que a maior covariância foi de 0.52, aproximadamente, mostrando que as variáveis envolvidas não tinham muita influência sobre a outra. Assim, sendo válida a metodologia aqui desenvolvida, tem-se que a automatização e a taxa de desemprego não possuem uma relação evidente."
   ]
  },
  {
   "cell_type": "markdown",
   "metadata": {},
   "source": [
    "Por fim, o gráfico em 2.5 mostra que os países que estão na OCDE possuem uma menor relação entre as variáveis utilizadas do que os não membros, mostrando que a hipótese relacionada da OCDE [2] não é muito clara."
   ]
  },
  {
   "cell_type": "markdown",
   "metadata": {},
   "source": [
    "# 5. Conclusão\n",
    "\n",
    "\n",
    "Como sugestão de moelhoria da metodologia, propoem-se encontrar uma variáveis que mensure melhor a automatização do que o Valor Econômico da Indústria, pois isso pode melhorar a análise. Talvez, a densidade de robôs por país seja um dado mais eficiente, já que automatização está intrisicamente ligada a utilização de robôs na indústria."
   ]
  },
  {
   "cell_type": "markdown",
   "metadata": {},
   "source": [
    "## Referências \n",
    "\n",
    "Abaixo, tem-se os artigos e publicações utilizados no trabalho a critério de consulta.\n",
    "\n",
    "[1] Artigo do Wikipédia sobre a Organização. Acesso em https://pt.wikipedia.org/wiki/Organização_para_a_Cooperação_e_Desenvolvimento_Económico\n",
    "\n",
    "[2] Relatório da OCDE 2018: \"Criação de emprego e desenvolvimento económico local 2018: Preparando para o Futuro do trabalho\". Acesso em http://www.oecd.org/cfe/leed/PORT_LEED-Flagship-Policy-Highlights.pdf\n",
    "\n",
    "[3] Fonte de Dados. Acesso em https://www.gapminder.org/tools/"
   ]
  },
  {
   "cell_type": "code",
   "execution_count": null,
   "metadata": {},
   "outputs": [],
   "source": []
  }
 ],
 "metadata": {
  "kernelspec": {
   "display_name": "Python 3",
   "language": "python",
   "name": "python3"
  },
  "language_info": {
   "codemirror_mode": {
    "name": "ipython",
    "version": 3
   },
   "file_extension": ".py",
   "mimetype": "text/x-python",
   "name": "python",
   "nbconvert_exporter": "python",
   "pygments_lexer": "ipython3",
   "version": "3.7.1"
  }
 },
 "nbformat": 4,
 "nbformat_minor": 2
}
